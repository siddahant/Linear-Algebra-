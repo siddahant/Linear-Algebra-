{
  "nbformat": 4,
  "nbformat_minor": 0,
  "metadata": {
    "colab": {
      "name": "LU factorization.ipynb",
      "provenance": [],
      "collapsed_sections": [],
      "mount_file_id": "1tov23YRcZZPFnq4iDT2_RibUD-A7GlNX",
      "authorship_tag": "ABX9TyOE1eHvVORP5ntCeQp6LrGb",
      "include_colab_link": true
    },
    "kernelspec": {
      "name": "python3",
      "display_name": "Python 3"
    },
    "language_info": {
      "name": "python"
    },
    "accelerator": "GPU"
  },
  "cells": [
    {
      "cell_type": "markdown",
      "metadata": {
        "id": "view-in-github",
        "colab_type": "text"
      },
      "source": [
        "<a href=\"https://colab.research.google.com/github/siddahant/Linear-Algebra-/blob/main/LU_factorization.ipynb\" target=\"_parent\"><img src=\"https://colab.research.google.com/assets/colab-badge.svg\" alt=\"Open In Colab\"/></a>"
      ]
    },
    {
      "cell_type": "markdown",
      "metadata": {
        "id": "kIH5PL5vu4Lm"
      },
      "source": [
        "LU factorization\n"
      ]
    },
    {
      "cell_type": "markdown",
      "metadata": {
        "id": "XzUBFozrkC_i"
      },
      "source": [
        "**Import prerequisites**"
      ]
    },
    {
      "cell_type": "code",
      "metadata": {
        "id": "f-aAdtpxuy9z"
      },
      "source": [
        "import numpy as np \n",
        "import scipy.linalg as la\n",
        "import time \n",
        "import matplotlib.pyplot as plt"
      ],
      "execution_count": null,
      "outputs": []
    },
    {
      "cell_type": "markdown",
      "metadata": {
        "id": "yQb4CXQCYw6F"
      },
      "source": [
        "** Defining the matrix  **"
      ]
    },
    {
      "cell_type": "code",
      "metadata": {
        "id": "aXEOhafawy-Q"
      },
      "source": [
        "\n",
        "def matrix(n):\n",
        "  ''' The function matrix helps to return the matrix by taking inputs in easy\n",
        "  Mannar :\n",
        "  n is the size of the square matrix which need to be designed while calling the function \n",
        "  Then the function required number in a single line separated by space to genrate\n",
        "  matrix'''\n",
        "  \n",
        "  text = '''Enter number in the single line separated by space.\n",
        "  example matrix string = 1 2 3 4 for 2X2 matrix:\n",
        "  [[1 2]\n",
        "   [3 4 ]]'''\n",
        "  print(text)\n",
        "  mat = list(map(int, input('your matrix string = ').split())) # Generate the list from inputs separated by space.\n",
        "  Matrix = np.array(mat).reshape(n,n) # convert the list into array then reshape it as the size of the matrix given.\n",
        "  print('Here is your matrix \\n',Matrix)\n",
        "\n",
        "  return Matrix "
      ],
      "execution_count": null,
      "outputs": []
    },
    {
      "cell_type": "code",
      "metadata": {
        "id": "cYXVcw4Q4H0q"
      },
      "source": [
        ""
      ],
      "execution_count": null,
      "outputs": []
    },
    {
      "cell_type": "markdown",
      "metadata": {
        "id": "JB92-UZeb--o"
      },
      "source": [
        "**Define LU decompositon function**"
      ]
    },
    {
      "cell_type": "code",
      "metadata": {
        "id": "yeDA0vIuyNNp"
      },
      "source": [
        "def LU(matrix):\n",
        "  ''' This Lu function does LU factorization of a matrix. \n",
        "  The function required a matrix to run.\n",
        "  LU function return L and U decomposition.\n",
        "  where:\n",
        "  • U is the upper triangular matrix. It has non-zero components only above the diagonal,\n",
        "    and the diagonal components uii correspond to the pivots.\n",
        "  • L is the lower triangular matrix. It has non-zero components only below the diagonal,\n",
        "    and the diagonal components lii = 1.'''\n",
        "\n",
        "  check = isinstance(matrix,np.ndarray) # check the matrix is correct or not!\n",
        "  if check== True:\n",
        "    U=matrix.copy()\n",
        "    k=np.shape(matrix[0])          \n",
        "    n=k[0]                         # find out the total no of rows in matrix \n",
        "    L=np.eye(n)                   # creating the nXn Identity matrix \n",
        "    U=U/1                        # to make floating\n",
        "    for i in range(n):             \n",
        "      f=U[i+1:,i]/U[i,i] \n",
        "      L[i+1:,i]=f             # replacing the (i+1, i) element of the Identity matrix with factor value \n",
        "      U[i+1:] = U[i+1:] - f[:, np.newaxis]*U[i]   # performing elimination \n",
        "    \n",
        "    \n",
        "    return L, U\n",
        "  else:\n",
        "    return \"please enter a valid matrix\""
      ],
      "execution_count": null,
      "outputs": []
    },
    {
      "cell_type": "code",
      "metadata": {
        "colab": {
          "base_uri": "https://localhost:8080/"
        },
        "id": "Th24RAVAltcP",
        "outputId": "04442229-4a92-4a37-ac58-516ee2fcba53"
      },
      "source": [
        "nums=[3,1,3,4]\n",
        "target=4\n",
        "dp = {}\n",
        "        \n",
        "for i, x in enumerate(nums):\n",
        "    \n",
        "    if (target - x) in dp:\n",
        "        print([dp[target - x], i])\n",
        "    \n",
        "    else:\n",
        "        dp[x] = i\n",
        "\n",
        "        print(\"x=\",x)\n",
        "        print(i)\n",
        "print(dp)\n",
        "print(nums.index(3))"
      ],
      "execution_count": null,
      "outputs": [
        {
          "output_type": "stream",
          "name": "stdout",
          "text": [
            "x= 3\n",
            "0\n",
            "[0, 1]\n",
            "x= 3\n",
            "2\n",
            "x= 4\n",
            "3\n",
            "{3: 2, 4: 3}\n",
            "0\n"
          ]
        }
      ]
    },
    {
      "cell_type": "code",
      "metadata": {
        "id": "hqBiiB3PAyWM",
        "colab": {
          "base_uri": "https://localhost:8080/"
        },
        "outputId": "5458805c-b190-4d61-8854-33b4d2443423"
      },
      "source": [
        "arr=[1,2,3,4,5]\n",
        "len(arr)"
      ],
      "execution_count": null,
      "outputs": [
        {
          "output_type": "execute_result",
          "data": {
            "text/plain": [
              "5"
            ]
          },
          "metadata": {},
          "execution_count": 1
        }
      ]
    },
    {
      "cell_type": "markdown",
      "metadata": {
        "id": "B4xuhFZYfwIl"
      },
      "source": [
        "**CHECk  the solution:**\n",
        "*As we know LU=A *"
      ]
    },
    {
      "cell_type": "code",
      "metadata": {
        "id": "iG6qP62lfvzn"
      },
      "source": [
        "def check(L,U,matrix):\n",
        "  A=np.array(np.dot(L,U))\n",
        "  if (A == matrix).all:\n",
        "    print('check:\\n{}\\n\\n is equal to \\n\\n{}\\n\\n'.format(A,matrix))\n",
        "    return True\n",
        "  else:\n",
        "    print('check\\n{}\\n\\n is  not equal to \\n\\n{}\\n\\n'.format(A,matrix))\n",
        "    return False\n"
      ],
      "execution_count": null,
      "outputs": []
    },
    {
      "cell_type": "code",
      "metadata": {
        "id": "1cmiW03hmutv"
      },
      "source": [
        "def main():\n",
        "  x=matrix(int(input(\"the value of n \")))\n",
        "  L,U=LU(x)\n",
        "  print(\"\\nL=\\n{}\\n\\nU=\\n{}\\n\".format(L,U))\n",
        "  check(L,U,x)\n",
        "  return 0\n"
      ],
      "execution_count": null,
      "outputs": []
    },
    {
      "cell_type": "markdown",
      "metadata": {
        "id": "flBAFgh1qXjS"
      },
      "source": [
        "Check that code yields correct results for the three matrices A, B, and C\n"
      ]
    },
    {
      "cell_type": "code",
      "metadata": {
        "colab": {
          "base_uri": "https://localhost:8080/"
        },
        "id": "ffO7cXWZqolD",
        "outputId": "497af097-2a3b-4cc9-bb21-6fe005eaeb6e"
      },
      "source": [
        "# soultoin for A \n",
        "A=main()"
      ],
      "execution_count": null,
      "outputs": [
        {
          "output_type": "stream",
          "name": "stdout",
          "text": [
            "the value of n 3\n",
            "Enter number in the single line separated by space.\n",
            "  example matrix string = 1 2 3 4 for 2X2 matrix:\n",
            "  [[1 2]\n",
            "   [3 4 ]]\n",
            "your matrix string = 1 3 2 3 5 4 2 4 6\n",
            "Here is your matrix \n",
            " [[1 3 2]\n",
            " [3 5 4]\n",
            " [2 4 6]]\n",
            "\n",
            "L=\n",
            "[[1.  0.  0. ]\n",
            " [3.  1.  0. ]\n",
            " [2.  0.5 1. ]]\n",
            "\n",
            "U=\n",
            "[[ 1.  3.  2.]\n",
            " [ 0. -4. -2.]\n",
            " [ 0.  0.  3.]]\n",
            "\n",
            "check:\n",
            "[[1. 3. 2.]\n",
            " [3. 5. 4.]\n",
            " [2. 4. 6.]]\n",
            "\n",
            " is equal to \n",
            "\n",
            "[[1 3 2]\n",
            " [3 5 4]\n",
            " [2 4 6]]\n",
            "\n",
            "\n"
          ]
        }
      ]
    },
    {
      "cell_type": "code",
      "metadata": {
        "colab": {
          "base_uri": "https://localhost:8080/"
        },
        "id": "AZNLBdElrcMS",
        "outputId": "fc45b05a-2bdd-4f7d-c4ad-74f0cfac3d8e"
      },
      "source": [
        "# soultoin for B\n",
        "B=main()"
      ],
      "execution_count": null,
      "outputs": [
        {
          "output_type": "stream",
          "name": "stdout",
          "text": [
            "the value of n 3\n",
            "Enter number in the single line separated by space.\n",
            "  example matrix string = 1 2 3 4 for 2X2 matrix:\n",
            "  [[1 2]\n",
            "   [3 4 ]]\n",
            "your matrix string = 1 0 1 2 2 2 3 4 5\n",
            "Here is your matrix \n",
            " [[1 0 1]\n",
            " [2 2 2]\n",
            " [3 4 5]]\n",
            "\n",
            "L=\n",
            "[[1. 0. 0.]\n",
            " [2. 1. 0.]\n",
            " [3. 2. 1.]]\n",
            "\n",
            "U=\n",
            "[[1. 0. 1.]\n",
            " [0. 2. 0.]\n",
            " [0. 0. 2.]]\n",
            "\n",
            "check:\n",
            "[[1. 0. 1.]\n",
            " [2. 2. 2.]\n",
            " [3. 4. 5.]]\n",
            "\n",
            " is equal to \n",
            "\n",
            "[[1 0 1]\n",
            " [2 2 2]\n",
            " [3 4 5]]\n",
            "\n",
            "\n"
          ]
        }
      ]
    },
    {
      "cell_type": "code",
      "metadata": {
        "colab": {
          "base_uri": "https://localhost:8080/"
        },
        "id": "hEAu_FXargkA",
        "outputId": "f591b391-2534-4c10-d70c-9c15d8b0cb2f"
      },
      "source": [
        "# soultoin for C\n",
        "C=main()  "
      ],
      "execution_count": null,
      "outputs": [
        {
          "output_type": "stream",
          "name": "stdout",
          "text": [
            "the value of n 3\n",
            "Enter number in the single line separated by space.\n",
            "  example matrix string = 1 2 3 4 for 2X2 matrix:\n",
            "  [[1 2]\n",
            "   [3 4 ]]\n",
            "your matrix string = 2 1 3 3 2 3 3 1 0\n",
            "Here is your matrix \n",
            " [[2 1 3]\n",
            " [3 2 3]\n",
            " [3 1 0]]\n",
            "\n",
            "L=\n",
            "[[ 1.   0.   0. ]\n",
            " [ 1.5  1.   0. ]\n",
            " [ 1.5 -1.   1. ]]\n",
            "\n",
            "U=\n",
            "[[ 2.   1.   3. ]\n",
            " [ 0.   0.5 -1.5]\n",
            " [ 0.   0.  -6. ]]\n",
            "\n",
            "check:\n",
            "[[2. 1. 3.]\n",
            " [3. 2. 3.]\n",
            " [3. 1. 0.]]\n",
            "\n",
            " is equal to \n",
            "\n",
            "[[2 1 3]\n",
            " [3 2 3]\n",
            " [3 1 0]]\n",
            "\n",
            "\n"
          ]
        }
      ]
    },
    {
      "cell_type": "markdown",
      "metadata": {
        "id": "BmlpSU4_N1RB"
      },
      "source": [
        " Used code to compute the LU factorization of random matrices with size N =10, 100,\n",
        "200, 300, 400, 500, 1000, 2000. Record the time it takes to complete the factorization for each\n",
        "N. Plot the execution time versus N "
      ]
    },
    {
      "cell_type": "code",
      "metadata": {
        "id": "Urka4--KNqka"
      },
      "source": [
        "N=[10, 100, 200, 300, 400, 500, 1000, 2000]\n",
        "t1=[]\n",
        "t2=[]\n",
        "matt=[]\n",
        "for i in N:\n",
        "  m=(np.random.rand(i,i))\n",
        "  matt.append(m)"
      ],
      "execution_count": null,
      "outputs": []
    },
    {
      "cell_type": "code",
      "metadata": {
        "id": "Ml2wfoqAxlBQ"
      },
      "source": [
        "def performance(times,size):\n",
        "  List_of_matrix=[]\n",
        "  for t in range(times):\n",
        "    matrix=np.random.rand(size,size)\n",
        "    List_of_matrix.append(matrix)\n",
        "  t1=[]\n",
        "  t2=[]\n",
        "  for i in List_of_matrix:\n",
        "    start_time = time.time()\n",
        "    LU(i)\n",
        "    t1.append(time.time()-start_time)\n",
        "\n",
        "  for i in List_of_matrix:\n",
        "    start_time = time.time()\n",
        "    la.lu(i)\n",
        "    t1.append(time.time()-start_time)\n",
        "  \n",
        "  return sum(t1)/(len(t1)+1),sum(t2)/(len(t2)+1)\n",
        "\n"
      ],
      "execution_count": null,
      "outputs": []
    },
    {
      "cell_type": "code",
      "metadata": {
        "id": "voTOqXwV1WSo"
      },
      "source": [
        "Per1=[]\n",
        "Per2=[]\n",
        "for i in N:\n",
        "  value=performance(10,i)\n",
        "  Per1.append(value[0])\n",
        "  Per2.append(value[1])"
      ],
      "execution_count": null,
      "outputs": []
    },
    {
      "cell_type": "code",
      "metadata": {
        "colab": {
          "base_uri": "https://localhost:8080/",
          "height": 312
        },
        "id": "jVUokyXK3o3b",
        "outputId": "6ecfded4-ca3a-4bb8-afed-444818e5f785"
      },
      "source": [
        "plt.plot(N,Per1,'o-')\n",
        "plt.plot(N,Per2,'o-')\n",
        "plt.legend([\"using own algorithm\", \"using scipy.linalg.lu \"],loc=\"best\")\n",
        "plt.title('Program Execution Time Graph ')\n",
        "plt.ylabel(\"Time\")\n",
        "plt.xlabel(\"Size of Matrices\")"
      ],
      "execution_count": null,
      "outputs": [
        {
          "output_type": "execute_result",
          "data": {
            "text/plain": [
              "Text(0.5, 0, 'Size of Matrices')"
            ]
          },
          "metadata": {},
          "execution_count": 33
        },
        {
          "output_type": "display_data",
          "data": {
            "image/png": "[encoded data removed]",
            "text/plain": [
              "<Figure size 432x288 with 1 Axes>"
            ]
          },
          "metadata": {
            "needs_background": "light"
          }
        }
      ]
    }
  ]
}