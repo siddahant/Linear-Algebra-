{
  "nbformat": 4,
  "nbformat_minor": 0,
  "metadata": {
    "colab": {
      "name": "TDMAsolver.ipynb",
      "provenance": [],
      "authorship_tag": "ABX9TyMIV806lJ8QlNaZPtAzmJeX",
      "include_colab_link": true
    },
    "kernelspec": {
      "name": "python3",
      "display_name": "Python 3"
    },
    "language_info": {
      "name": "python"
    }
  },
  "cells": [
    {
      "cell_type": "markdown",
      "metadata": {
        "id": "view-in-github",
        "colab_type": "text"
      },
      "source": [
        "<a href=\"https://colab.research.google.com/github/siddahant/Linear-Algebra-/blob/main/TDMAsolver.ipynb\" target=\"_parent\"><img src=\"https://colab.research.google.com/assets/colab-badge.svg\" alt=\"Open In Colab\"/></a>"
      ]
    },
    {
      "cell_type": "code",
      "metadata": {
        "id": "B4oDyje6KF5Y"
      },
      "source": [
        "import numpy as np \n",
        "import math"
      ],
      "execution_count": null,
      "outputs": []
    },
    {
      "cell_type": "code",
      "metadata": {
        "id": "LKF0kZW8OZ0u"
      },
      "source": [
        "def SV(diagonalVector, subdiagonalVector,superdiagonalVector, m):\n",
        "  subdiagonal_vector = []\n",
        "  diagonal_vector = []\n",
        "  superdiagonal_vector = [0]\n",
        "\n",
        "  for i in range(m-2):\n",
        "    subdiagonal_vector.append(subdiagonalVector)\n",
        "\n",
        "  for k in range(m-1):\n",
        "    diagonal_vector.append(diagonalVector)\n",
        "\n",
        "  for j in range(m-1):\n",
        "    superdiagonal_vector.append(superdiagonalVector)\n",
        "  return  subdiagonal_vector, diagonal_vector, superdiagonal_vector\n"
      ],
      "execution_count": null,
      "outputs": []
    },
    {
      "cell_type": "code",
      "metadata": {
        "id": "8sastjt3g_II"
      },
      "source": [
        "def RHV(m,tw,tin):\n",
        "\n",
        "  deltax=1/m\n",
        "  rhs=[]\n",
        "  for i in range(1, m):\n",
        "    rhs.append(-(math.sin(2*math.pi*deltax*i)*50)*((1/m)**2))\n",
        "  \n",
        "  rhs[0]=rhs[0]+tw\n",
        "  rhs[-1]=rhs[-1]+tin\n",
        "\n",
        "  return rhs \n"
      ],
      "execution_count": null,
      "outputs": []
    },
    {
      "cell_type": "code",
      "metadata": {
        "colab": {
          "base_uri": "https://localhost:8080/"
        },
        "id": "1L7VlOcnC6m3",
        "outputId": "d373b801-ccba-4edc-d7d5-865c039e2df2"
      },
      "source": [
        "RHV(8,5,60)"
      ],
      "execution_count": null,
      "outputs": [
        {
          "output_type": "execute_result",
          "data": {
            "text/plain": [
              "[4.44757282719801,\n",
              " -0.78125,\n",
              " -0.5524271728019903,\n",
              " -9.567553118338697e-17,\n",
              " 0.5524271728019902,\n",
              " 0.78125,\n",
              " 60.55242717280199]"
            ]
          },
          "metadata": {},
          "execution_count": 4
        }
      ]
    },
    {
      "cell_type": "code",
      "metadata": {
        "id": "YgASD4GH4J_g"
      },
      "source": [
        "def solver(a, b, c, d):\n",
        "    '''\n",
        "    a = subdiagonal vector\n",
        "    b = diagonal vector \n",
        "    c = superdiagonal vector\n",
        "    d= right hand side vector \n",
        "    \n",
        "    '''\n",
        "    n = len(b) # number of equations\n",
        "    a, b, c, d = map(np.array, (a, b, c, d)) # copy arrays\n",
        "    for i in range(1, n):\n",
        "        m = a[i-1]/b[i-1]\n",
        "        b[i] = b[i] - m*c[i-1] \n",
        "        d[i] = d[i] - m*d[i-1]\n",
        "        \t    \n",
        "    x = b\n",
        "    x[-1] = d[-1]/b[-1]\n",
        "\n",
        "    for i in range(n-2, -1, -1):\n",
        "        x[i] = (d[i]-c[i]*x[i+1])/b[i]\n",
        "\n",
        "    del b, c, d # delete variables from memory\n",
        "\n",
        "    return x"
      ],
      "execution_count": null,
      "outputs": []
    },
    {
      "cell_type": "code",
      "metadata": {
        "id": "pMDkf6AyeGiI"
      },
      "source": [
        "def disp(size_of_a_matrix, diagonal, diagonalAbove, diagonalBelow):\n",
        "   \n",
        "    matrix = [[0 for j in range(size_of_a_matrix)]\n",
        "              for i in range(size_of_a_matrix)]\n",
        "      \n",
        "    for k in range(size_of_a_matrix-1):\n",
        "        matrix[k][k] = diagonal[k]\n",
        "        matrix[k][k+1] = diagonalAbove[k]\n",
        "        matrix[k+1][k] = diagonalBelow[k]\n",
        "      \n",
        "    matrix[size_of_a_matrix-1][size_of_a_matrix - 1] = diagonal[size_of_a_matrix-1]\n",
        "   \n",
        "    # so that the values will print row by row\n",
        "    for row in matrix:\n",
        "        print(row)\n",
        "  \n",
        "    return \"this is the tridiagonal matrix\""
      ],
      "execution_count": null,
      "outputs": []
    },
    {
      "cell_type": "code",
      "metadata": {
        "id": "IE4BsNLNjgwA"
      },
      "source": [
        "def main(size, tw, tin, diagonal, diagonalAbove, diagonalBelow):\n",
        "  x=SV(2,-1,-1,size)\n",
        "  disp(size-1,x[1],x[2],x[0])\n",
        "  d=RHV(size,tw,tin)\n",
        "\n",
        "  result = solver(x[0], x[1], x[2], d)\n",
        "  \n",
        "  return result\n"
      ],
      "execution_count": null,
      "outputs": []
    },
    {
      "cell_type": "code",
      "metadata": {
        "colab": {
          "base_uri": "https://localhost:8080/"
        },
        "id": "U5iEBw0aoh-H",
        "outputId": "c8017adc-3927-4bb1-bd33-9f47f8a18e93"
      },
      "source": [
        "main(8,5.0,60.0,2.0,-1.,-1.)\n"
      ],
      "execution_count": null,
      "outputs": [
        {
          "output_type": "stream",
          "name": "stdout",
          "text": [
            "[2, 0, 0, 0, 0, 0, 0]\n",
            "[-1, 2, -1, 0, 0, 0, 0]\n",
            "[0, -1, 2, -1, 0, 0, 0]\n",
            "[0, 0, -1, 2, -1, 0, 0]\n",
            "[0, 0, 0, -1, 2, -1, 0]\n",
            "[0, 0, 0, 0, -1, 2, -1]\n",
            "[0, 0, 0, 0, 0, -1, 2]\n"
          ]
        },
        {
          "output_type": "execute_result",
          "data": {
            "text/plain": [
              "array([ 2, 32, 63, 63, 63, 63, 62])"
            ]
          },
          "metadata": {},
          "execution_count": 8
        }
      ]
    },
    {
      "cell_type": "code",
      "metadata": {
        "colab": {
          "base_uri": "https://localhost:8080/"
        },
        "id": "F2QtIrJapAiV",
        "outputId": "326ccc98-a3aa-4de9-a555-9d24f1543088"
      },
      "source": [
        "#analytical \n",
        "k=8\n",
        "for i in range(k):\n",
        "  tx=(((math.sin(2*math.pi*(1/k)*i)) * (1/4*(math.pi**2))) + (55*(1/k)*i) + 5)\n",
        "  print(tx)"
      ],
      "execution_count": null,
      "outputs": [
        {
          "output_type": "stream",
          "name": "stdout",
          "text": [
            "5.0\n",
            "13.61971604990972\n",
            "21.21740110027234\n",
            "27.36971604990972\n",
            "32.5\n",
            "37.63028395009028\n",
            "43.78259889972766\n",
            "51.38028395009028\n"
          ]
        }
      ]
    },
    {
      "cell_type": "code",
      "metadata": {
        "colab": {
          "base_uri": "https://localhost:8080/"
        },
        "id": "fXqcXJ7KIv_r",
        "outputId": "78eea165-2013-4e3a-9daf-2b95f67e5e92"
      },
      "source": [
        "A = np.array([[2,-1,0,0],[-1,2,-1,0],[0,-1,2,-1],[0,0,-1,2]],dtype=float) \n",
        "print(A)"
      ],
      "execution_count": null,
      "outputs": [
        {
          "output_type": "stream",
          "name": "stdout",
          "text": [
            "[[ 2. -1.  0.  0.]\n",
            " [-1.  2. -1.  0.]\n",
            " [ 0. -1.  2. -1.]\n",
            " [ 0.  0. -1.  2.]]\n"
          ]
        }
      ]
    },
    {
      "cell_type": "code",
      "metadata": {
        "colab": {
          "base_uri": "https://localhost:8080/"
        },
        "id": "S1L3GlBQJfAf",
        "outputId": "23b31204-de9b-4e45-e692-323038e9c311"
      },
      "source": [
        "A = np.array([[2,-1,0,0],[-1,2,-1,0],[0,-1,2,-1],[0,0,-1,2]],dtype=float) \n",
        "d=[3.0978869674096927,-1.1755705045849467,1.1755705045849463,61.90211303259031]\n",
        "\n",
        "print (np.linalg.solve(A, d))"
      ],
      "execution_count": null,
      "outputs": [
        {
          "output_type": "stream",
          "name": "stdout",
          "text": [
            "[14.62361808 26.14934919 38.85065081 50.37638192]\n"
          ]
        }
      ]
    },
    {
      "cell_type": "code",
      "metadata": {
        "id": "dagck_xKQJbM"
      },
      "source": [
        "def solver(a, b, c, d):\n",
        "    '''\n",
        "    a = subdiagonal vector\n",
        "    b = diagonal vector \n",
        "    c = superdiagonal vector\n",
        "    d= right hand side vector \n",
        "        \n",
        "    '''\n",
        "    N = len(b) # number of equations\n",
        "    a, b, c, d = map(np.array, (a, b, c, d)) # copy the array\n",
        "    for i in range(2, N):\n",
        "        factor = a[i]/b[i-1]\n",
        "        b[i] = b[i] - factor*c[i-1]\n",
        "        d[i] = d[i] - factor*d[i-1]\n",
        "\n",
        "    x=b\n",
        "    x[-1] = d[-1]/b[-1]\n",
        "\n",
        "    for i in range(N-2, 0,-1):\n",
        "        x[i] = (d[i]-c[i]*x[i+1])/b[i]\n",
        "\n",
        "    del b, c, d # delete variables from memory\n",
        "\n",
        "    return x"
      ],
      "execution_count": null,
      "outputs": []
    },
    {
      "cell_type": "code",
      "metadata": {
        "id": "MP17Al-HRsDX"
      },
      "source": [
        "def TDMAsolver(a, b, c, d):\n",
        "    '''\n",
        "    TDMA solver, a b c d can be NumPy array type or Python list type.\n",
        "    refer to http://en.wikipedia.org/wiki/Tridiagonal_matrix_algorithm\n",
        "    and to http://www.cfd-online.com/Wiki/Tridiagonal_matrix_algorithm_-_TDMA_(Thomas_algorithm)\n",
        "    '''\n",
        "    nf = len(d) # number of equations\n",
        "    ac, bc, cc, dc = map(np.array, (a, b, c, d)) # copy arrays\n",
        "    for it in range(1, nf):\n",
        "        mc = ac[it-1]/bc[it-1]\n",
        "        bc[it] = bc[it] - mc*cc[it-1] \n",
        "        dc[it] = dc[it] - mc*dc[it-1]\n",
        "        \t    \n",
        "    xc = bc\n",
        "    xc[-1] = dc[-1]/bc[-1]\n",
        "\n",
        "    for il in range(nf-2, -1, -1):\n",
        "        xc[il] = (dc[il]-cc[il]*xc[il+1])/bc[il]\n",
        "\n",
        "    return xc\n"
      ],
      "execution_count": null,
      "outputs": []
    },
    {
      "cell_type": "code",
      "metadata": {
        "colab": {
          "base_uri": "https://localhost:8080/"
        },
        "id": "YlfSOKCAQLJD",
        "outputId": "a7de2805-81a6-41b9-a1c9-6d4cc0fdff16"
      },
      "source": [
        "a=[0,-1,-1,-1]\n",
        "b=[-2.04,-2.04,-2.04,-2.04]\n",
        "c=[-1,-1,-1,]\n",
        "d=[40.8,.8,.8,200.8]\n",
        "TDMAsolver(a,b,c,d)"
      ],
      "execution_count": null,
      "outputs": [
        {
          "output_type": "execute_result",
          "data": {
            "text/plain": [
              "array([   2.4214851 ,  -45.73982961,   92.50925241, -143.7790453 ])"
            ]
          },
          "metadata": {},
          "execution_count": 89
        }
      ]
    }
  ]
}